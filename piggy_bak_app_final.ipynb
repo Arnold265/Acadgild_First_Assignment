{
 "cells": [
  {
   "cell_type": "markdown",
   "metadata": {},
   "source": [
    "## Piggy Bank Software\n",
    "\n",
    "We should create a piigy bank application for school children to teach them importance of savings.\n",
    "They should have the option to :\n",
    "\n",
    "* Add modeny \n",
    "* withdraw money\n",
    "* Check the current amount in the piggy bank"
   ]
  },
  {
   "cell_type": "code",
   "execution_count": null,
   "metadata": {},
   "outputs": [
    {
     "name": "stdout",
     "output_type": "stream",
     "text": [
      " \n",
      "--------------------Start-------------------\n",
      " \n",
      "Start or End : Start\n",
      "Add , Withdraw or Check : Add\n",
      " \n",
      "Add amount : 1000\n",
      " \n",
      "After adding , your updated balance is 1000.0 rupees\n",
      "None\n",
      " \n",
      "Start or End : Start\n",
      "Add , Withdraw or Check : Withdraw\n",
      " \n",
      "withdraw amount : 300\n",
      " \n",
      "After withdrawing , balance amount is  700.0 rupees\n",
      "None\n",
      " \n",
      "Start or End : Start'\n",
      " \n",
      "Start or End : Start\n",
      "Add , Withdraw or Check : Check\n",
      " \n",
      "Your current balance is 700.0 rupees\n",
      "None\n",
      " \n"
     ]
    }
   ],
   "source": [
    "import piggy_bank"
   ]
  },
  {
   "cell_type": "markdown",
   "metadata": {},
   "source": [
    "## Assignment \n",
    "\n",
    "Develope an piggy bank application, which will work as per above instruction.\n"
   ]
  },
  {
   "cell_type": "code",
   "execution_count": null,
   "metadata": {},
   "outputs": [
    {
     "name": "stdout",
     "output_type": "stream",
     "text": [
      "Start or EndStart\n",
      "Add, Withdraw or Check:Add\n",
      "add amount: 1000\n",
      "After adding, your updated balance is 1000.0 rupees\n",
      "Start or EndStart\n",
      "Add, Withdraw or Check:Check\n",
      "your current balance is 1000.0 rupees\n",
      "Start or EndStart\n",
      "Add, Withdraw or Check:withdraw\n",
      "None\n",
      "Start or EndStart\n",
      "Add, Withdraw or Check:Withdraw\n",
      "Withdraw amount: 400\n",
      "After withdrawing, balance amount is 600.0rupees\n",
      "Start or EndStart\n",
      "Add, Withdraw or Check:Add\n"
     ]
    }
   ],
   "source": [
    "balance=0.0\n",
    "\n",
    "def add_money(amount):\n",
    "    global balance\n",
    "    balance = balance + float(amount)\n",
    "    print(\"After adding, your updated balance is {} rupees\". format(balance))\n",
    "    return\n",
    "\n",
    "def withdraw_money(amount):\n",
    "    global balance\n",
    "    balance=balance-float(amount)\n",
    "    print('After withdrawing, balance amount is {}rupees'.format(balance))\n",
    "    return\n",
    "def check_money():\n",
    "    global balance\n",
    "    print('your current balance is {} rupees'.format(balance))\n",
    "    \n",
    "\n",
    "start_or_end = input(\"Start or End\")\n",
    "\n",
    "while (start_or_end == \"Start\"):\n",
    "    \n",
    "    action = input('Add, Withdraw or Check:')\n",
    "    \n",
    "    if action == 'Add':\n",
    "        amount=input('add amount: ')\n",
    "        if amount.isnumeric():\n",
    "            add_money(amount)\n",
    "        else:\n",
    "            print('Amount should be numeric value')\n",
    "            \n",
    "    elif action == 'Withdraw':\n",
    "        amount = input('Withdraw amount: ')\n",
    "        if amount.isnumeric():\n",
    "            withdraw_money(amount)\n",
    "        else:\n",
    "            print(\"Amount should be numeric value\")\n",
    "            \n",
    "    elif action == 'Check':\n",
    "        check_money()\n",
    "    else:\n",
    "        print('None')\n",
    "    \n",
    "    \n",
    "    start_or_end = input(\"Start or End\")\n",
    "    \n",
    "        \n",
    "    \n"
   ]
  },
  {
   "cell_type": "code",
   "execution_count": null,
   "metadata": {},
   "outputs": [],
   "source": []
  }
 ],
 "metadata": {
  "kernelspec": {
   "display_name": "Python 3",
   "language": "python",
   "name": "python3"
  },
  "language_info": {
   "codemirror_mode": {
    "name": "ipython",
    "version": 3
   },
   "file_extension": ".py",
   "mimetype": "text/x-python",
   "name": "python",
   "nbconvert_exporter": "python",
   "pygments_lexer": "ipython3",
   "version": "3.7.1"
  }
 },
 "nbformat": 4,
 "nbformat_minor": 2
}
